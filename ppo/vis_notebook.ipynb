{
 "cells": [
  {
   "cell_type": "code",
   "execution_count": 1,
   "id": "efdc3f65",
   "metadata": {},
   "outputs": [
    {
     "name": "stdout",
     "output_type": "stream",
     "text": [
      "Collecting gym==0.25.0\n",
      "  Downloading gym-0.25.0.tar.gz (720 kB)\n",
      "     -------------------------------------- 720.4/720.4 kB 6.5 MB/s eta 0:00:00\n",
      "  Installing build dependencies: started\n",
      "  Installing build dependencies: finished with status 'done'\n",
      "  Getting requirements to build wheel: started\n",
      "  Getting requirements to build wheel: finished with status 'done'\n",
      "  Preparing metadata (pyproject.toml): started\n",
      "  Preparing metadata (pyproject.toml): finished with status 'done'\n",
      "Requirement already satisfied: cloudpickle>=1.2.0 in c:\\users\\scott\\anaconda3\\lib\\site-packages (from gym==0.25.0) (1.6.0)\n",
      "Collecting gym-notices>=0.0.4\n",
      "  Using cached gym_notices-0.0.8-py3-none-any.whl (3.0 kB)\n",
      "Requirement already satisfied: importlib-metadata>=4.8.0 in c:\\users\\scott\\anaconda3\\lib\\site-packages (from gym==0.25.0) (4.11.3)\n",
      "Requirement already satisfied: numpy>=1.18.0 in c:\\users\\scott\\anaconda3\\lib\\site-packages (from gym==0.25.0) (1.20.1)\n",
      "Requirement already satisfied: zipp>=0.5 in c:\\users\\scott\\anaconda3\\lib\\site-packages (from importlib-metadata>=4.8.0->gym==0.25.0) (3.4.1)\n",
      "Building wheels for collected packages: gym\n",
      "  Building wheel for gym (pyproject.toml): started\n",
      "  Building wheel for gym (pyproject.toml): finished with status 'done'\n",
      "  Created wheel for gym: filename=gym-0.25.0-py3-none-any.whl size=824426 sha256=fe99de815d0dc9fbdee8652b740e01dd1338b1aca0d613d4d1ca61ef0be99986\n",
      "  Stored in directory: c:\\users\\scott\\appdata\\local\\pip\\cache\\wheels\\ca\\49\\5a\\0344d57552f1732a5e2313a03b9f028528e3e19617afff0660\n",
      "Successfully built gym\n",
      "Installing collected packages: gym-notices, gym\n",
      "Successfully installed gym-0.25.0 gym-notices-0.0.8\n"
     ]
    },
    {
     "name": "stderr",
     "output_type": "stream",
     "text": [
      "\n",
      "[notice] A new release of pip available: 22.2.2 -> 23.0.1\n",
      "[notice] To update, run: python.exe -m pip install --upgrade pip\n"
     ]
    }
   ],
   "source": [
    "!pip install gym==0.25.0"
   ]
  },
  {
   "cell_type": "code",
   "execution_count": 4,
   "id": "32075318",
   "metadata": {},
   "outputs": [
    {
     "name": "stdout",
     "output_type": "stream",
     "text": [
      "Requirement already satisfied: tensorflow in c:\\users\\scott\\anaconda3\\lib\\site-packages (2.8.0)\n",
      "Requirement already satisfied: opt-einsum>=2.3.2 in c:\\users\\scott\\anaconda3\\lib\\site-packages (from tensorflow) (3.3.0)\n",
      "Requirement already satisfied: termcolor>=1.1.0 in c:\\users\\scott\\anaconda3\\lib\\site-packages (from tensorflow) (1.1.0)\n",
      "Requirement already satisfied: absl-py>=0.4.0 in c:\\users\\scott\\anaconda3\\lib\\site-packages (from tensorflow) (1.0.0)\n",
      "Requirement already satisfied: keras-preprocessing>=1.1.1 in c:\\users\\scott\\anaconda3\\lib\\site-packages (from tensorflow) (1.1.2)\n",
      "Requirement already satisfied: tensorboard<2.9,>=2.8 in c:\\users\\scott\\anaconda3\\lib\\site-packages (from tensorflow) (2.8.0)\n",
      "Requirement already satisfied: wrapt>=1.11.0 in c:\\users\\scott\\anaconda3\\lib\\site-packages (from tensorflow) (1.12.1)\n",
      "Requirement already satisfied: h5py>=2.9.0 in c:\\users\\scott\\anaconda3\\lib\\site-packages (from tensorflow) (2.10.0)\n",
      "Requirement already satisfied: libclang>=9.0.1 in c:\\users\\scott\\anaconda3\\lib\\site-packages (from tensorflow) (13.0.0)\n",
      "Requirement already satisfied: flatbuffers>=1.12 in c:\\users\\scott\\anaconda3\\lib\\site-packages (from tensorflow) (2.0)\n",
      "Requirement already satisfied: typing-extensions>=3.6.6 in c:\\users\\scott\\anaconda3\\lib\\site-packages (from tensorflow) (4.1.1)\n",
      "Requirement already satisfied: setuptools in c:\\users\\scott\\anaconda3\\lib\\site-packages (from tensorflow) (58.5.3)\n",
      "Requirement already satisfied: keras<2.9,>=2.8.0rc0 in c:\\users\\scott\\anaconda3\\lib\\site-packages (from tensorflow) (2.8.0)\n",
      "Requirement already satisfied: tensorflow-io-gcs-filesystem>=0.23.1 in c:\\users\\scott\\anaconda3\\lib\\site-packages (from tensorflow) (0.24.0)\n",
      "Requirement already satisfied: google-pasta>=0.1.1 in c:\\users\\scott\\anaconda3\\lib\\site-packages (from tensorflow) (0.2.0)\n",
      "Requirement already satisfied: tf-estimator-nightly==2.8.0.dev2021122109 in c:\\users\\scott\\anaconda3\\lib\\site-packages (from tensorflow) (2.8.0.dev2021122109)\n",
      "Requirement already satisfied: protobuf>=3.9.2 in c:\\users\\scott\\anaconda3\\lib\\site-packages (from tensorflow) (4.21.6)\n",
      "Requirement already satisfied: astunparse>=1.6.0 in c:\\users\\scott\\anaconda3\\lib\\site-packages (from tensorflow) (1.6.3)\n",
      "Requirement already satisfied: grpcio<2.0,>=1.24.3 in c:\\users\\scott\\anaconda3\\lib\\site-packages (from tensorflow) (1.48.1)\n",
      "Requirement already satisfied: numpy>=1.20 in c:\\users\\scott\\anaconda3\\lib\\site-packages (from tensorflow) (1.20.1)\n",
      "Requirement already satisfied: gast>=0.2.1 in c:\\users\\scott\\anaconda3\\lib\\site-packages (from tensorflow) (0.5.3)\n",
      "Requirement already satisfied: six>=1.12.0 in c:\\users\\scott\\anaconda3\\lib\\site-packages (from tensorflow) (1.15.0)\n",
      "Requirement already satisfied: wheel<1.0,>=0.23.0 in c:\\users\\scott\\anaconda3\\lib\\site-packages (from astunparse>=1.6.0->tensorflow) (0.37.0)\n",
      "Requirement already satisfied: tensorboard-plugin-wit>=1.6.0 in c:\\users\\scott\\anaconda3\\lib\\site-packages (from tensorboard<2.9,>=2.8->tensorflow) (1.8.1)\n",
      "Requirement already satisfied: markdown>=2.6.8 in c:\\users\\scott\\anaconda3\\lib\\site-packages (from tensorboard<2.9,>=2.8->tensorflow) (3.3.6)\n",
      "Requirement already satisfied: google-auth<3,>=1.6.3 in c:\\users\\scott\\anaconda3\\lib\\site-packages (from tensorboard<2.9,>=2.8->tensorflow) (2.6.2)\n",
      "Requirement already satisfied: requests<3,>=2.21.0 in c:\\users\\scott\\anaconda3\\lib\\site-packages (from tensorboard<2.9,>=2.8->tensorflow) (2.25.1)\n",
      "Requirement already satisfied: werkzeug>=0.11.15 in c:\\users\\scott\\anaconda3\\lib\\site-packages (from tensorboard<2.9,>=2.8->tensorflow) (1.0.1)\n",
      "Requirement already satisfied: tensorboard-data-server<0.7.0,>=0.6.0 in c:\\users\\scott\\anaconda3\\lib\\site-packages (from tensorboard<2.9,>=2.8->tensorflow) (0.6.1)\n",
      "Requirement already satisfied: google-auth-oauthlib<0.5,>=0.4.1 in c:\\users\\scott\\anaconda3\\lib\\site-packages (from tensorboard<2.9,>=2.8->tensorflow) (0.4.6)\n",
      "Requirement already satisfied: cachetools<6.0,>=2.0.0 in c:\\users\\scott\\anaconda3\\lib\\site-packages (from google-auth<3,>=1.6.3->tensorboard<2.9,>=2.8->tensorflow) (5.0.0)\n",
      "Requirement already satisfied: pyasn1-modules>=0.2.1 in c:\\users\\scott\\anaconda3\\lib\\site-packages (from google-auth<3,>=1.6.3->tensorboard<2.9,>=2.8->tensorflow) (0.2.8)\n",
      "Requirement already satisfied: rsa<5,>=3.1.4 in c:\\users\\scott\\anaconda3\\lib\\site-packages (from google-auth<3,>=1.6.3->tensorboard<2.9,>=2.8->tensorflow) (4.8)\n",
      "Requirement already satisfied: requests-oauthlib>=0.7.0 in c:\\users\\scott\\anaconda3\\lib\\site-packages (from google-auth-oauthlib<0.5,>=0.4.1->tensorboard<2.9,>=2.8->tensorflow) (1.3.1)\n",
      "Requirement already satisfied: importlib-metadata>=4.4 in c:\\users\\scott\\anaconda3\\lib\\site-packages (from markdown>=2.6.8->tensorboard<2.9,>=2.8->tensorflow) (4.11.3)\n",
      "Requirement already satisfied: chardet<5,>=3.0.2 in c:\\users\\scott\\anaconda3\\lib\\site-packages (from requests<3,>=2.21.0->tensorboard<2.9,>=2.8->tensorflow) (4.0.0)\n",
      "Requirement already satisfied: urllib3<1.27,>=1.21.1 in c:\\users\\scott\\anaconda3\\lib\\site-packages (from requests<3,>=2.21.0->tensorboard<2.9,>=2.8->tensorflow) (1.26.4)\n",
      "Requirement already satisfied: idna<3,>=2.5 in c:\\users\\scott\\anaconda3\\lib\\site-packages (from requests<3,>=2.21.0->tensorboard<2.9,>=2.8->tensorflow) (2.10)\n",
      "Requirement already satisfied: certifi>=2017.4.17 in c:\\users\\scott\\anaconda3\\lib\\site-packages (from requests<3,>=2.21.0->tensorboard<2.9,>=2.8->tensorflow) (2022.12.7)\n",
      "Requirement already satisfied: zipp>=0.5 in c:\\users\\scott\\anaconda3\\lib\\site-packages (from importlib-metadata>=4.4->markdown>=2.6.8->tensorboard<2.9,>=2.8->tensorflow) (3.4.1)\n",
      "Requirement already satisfied: pyasn1<0.5.0,>=0.4.6 in c:\\users\\scott\\anaconda3\\lib\\site-packages (from pyasn1-modules>=0.2.1->google-auth<3,>=1.6.3->tensorboard<2.9,>=2.8->tensorflow) (0.4.8)\n",
      "Requirement already satisfied: oauthlib>=3.0.0 in c:\\users\\scott\\anaconda3\\lib\\site-packages (from requests-oauthlib>=0.7.0->google-auth-oauthlib<0.5,>=0.4.1->tensorboard<2.9,>=2.8->tensorflow) (3.2.0)\n"
     ]
    },
    {
     "name": "stderr",
     "output_type": "stream",
     "text": [
      "\n",
      "[notice] A new release of pip available: 22.2.2 -> 23.0.1\n",
      "[notice] To update, run: python.exe -m pip install --upgrade pip\n"
     ]
    }
   ],
   "source": [
    "!pip install tensorflow"
   ]
  },
  {
   "cell_type": "code",
   "execution_count": 8,
   "id": "0fa25b11",
   "metadata": {},
   "outputs": [
    {
     "name": "stdout",
     "output_type": "stream",
     "text": [
      "Requirement already satisfied: protobuf==3.20.* in c:\\users\\scott\\anaconda3\\lib\\site-packages (3.20.3)\n"
     ]
    },
    {
     "name": "stderr",
     "output_type": "stream",
     "text": [
      "WARNING: Ignoring invalid distribution -rotobuf (c:\\users\\scott\\anaconda3\\lib\\site-packages)\n",
      "WARNING: Ignoring invalid distribution -rotobuf (c:\\users\\scott\\anaconda3\\lib\\site-packages)\n",
      "WARNING: Ignoring invalid distribution -rotobuf (c:\\users\\scott\\anaconda3\\lib\\site-packages)\n",
      "WARNING: Ignoring invalid distribution -rotobuf (c:\\users\\scott\\anaconda3\\lib\\site-packages)\n",
      "WARNING: Ignoring invalid distribution -rotobuf (c:\\users\\scott\\anaconda3\\lib\\site-packages)\n",
      "WARNING: Ignoring invalid distribution -rotobuf (c:\\users\\scott\\anaconda3\\lib\\site-packages)\n",
      "\n",
      "[notice] A new release of pip available: 22.2.2 -> 23.0.1\n",
      "[notice] To update, run: python.exe -m pip install --upgrade pip\n"
     ]
    }
   ],
   "source": [
    "!pip install --user protobuf==3.20.*"
   ]
  },
  {
   "cell_type": "code",
   "execution_count": 1,
   "id": "3926684b",
   "metadata": {},
   "outputs": [],
   "source": [
    "from gym.wrappers.record_video import RecordVideo"
   ]
  },
  {
   "cell_type": "code",
   "execution_count": 5,
   "id": "56577d50",
   "metadata": {},
   "outputs": [
    {
     "name": "stderr",
     "output_type": "stream",
     "text": [
      "C:\\Users\\scott\\anaconda3\\lib\\site-packages\\gym\\core.py:329: DeprecationWarning: \u001b[33mWARN: Initializing wrapper in old step API which returns one bool instead of two. It is recommended to set `new_step_api=True` to use new step API. This will be the default behaviour in future.\u001b[0m\n",
      "  deprecation(\n",
      "C:\\Users\\scott\\anaconda3\\lib\\site-packages\\gym\\wrappers\\record_video.py:78: UserWarning: \u001b[33mWARN: Overwriting existing videos at C:\\Users\\scott\\Documents\\solitairegh\\ppo folder (try specifying a different `video_folder` for the `RecordVideo` wrapper if this is not desired)\u001b[0m\n",
      "  logger.warn(\n",
      "C:\\Users\\scott\\anaconda3\\lib\\site-packages\\gym\\wrappers\\monitoring\\video_recorder.py:89: UserWarning: \u001b[33mWARN: Disabling video recorder because environment <SolitaireWorldEnv instance> was not initialized with any compatible video mode between `single_rgb_array` and `rgb_array`\u001b[0m\n",
      "  logger.warn(\n"
     ]
    },
    {
     "name": "stdout",
     "output_type": "stream",
     "text": [
      "episode 0\n",
      "closing\n",
      "imported\n"
     ]
    }
   ],
   "source": [
    "# Visualize the output of the PPO Agent and record the results\n",
    "\n",
    "import os\n",
    "import random\n",
    "import numpy as np\n",
    "import gym\n",
    "import time\n",
    "\n",
    "import tensorflow as tf\n",
    "from tensorflow import keras\n",
    "from tensorflow.keras import layers\n",
    "\n",
    "from gym_env import solitaire_env\n",
    "\n",
    "#from gym.wrappers import Monitor\n",
    "\n",
    "mdir = './'\n",
    "\n",
    "env = solitaire_env.SolitaireWorldEnv(render_mode=\"human\")\n",
    "#env = Monitor(env, directory=save_location, force=True, video_callable=lambda episode_id: True)\n",
    "env = RecordVideo(env, mdir, episode_trigger=lambda e_idx:True)\n",
    "env.reset()\n",
    "env.start_video_recorder()\n",
    "\n",
    "def get_suit_val(card_param):\n",
    "    if card_param == 0:\n",
    "        return 0\n",
    "    elif card_param == 53:\n",
    "        return -1\n",
    "    \n",
    "    if card_param / 13 <= 1:\n",
    "        return 1\n",
    "    elif card_param / 26 <= 1:\n",
    "        return 2\n",
    "    elif card_param / 39 <= 1:\n",
    "        return 3\n",
    "    else:\n",
    "        return 4\n",
    "\n",
    "def get_card_val(card_p):\n",
    "    if card_p == 0:\n",
    "        return 0\n",
    "    elif card_p == 53:\n",
    "        return -1\n",
    "    \n",
    "    num = card_p % 13\n",
    "    if num == 0:\n",
    "        return 13\n",
    "    else:\n",
    "        return num\n",
    "\n",
    "suit_val_vec = np.vectorize(get_suit_val)\n",
    "card_val_vec = np.vectorize(get_card_val)\n",
    "\n",
    "\n",
    "# recreate the model arch\n",
    "\n",
    "# define multi-layer perceptron used in model arch\n",
    "def mlp(x, sizes, activation=tf.tanh, output_activation=None):\n",
    "    # Build a feedforward neural network\n",
    "    for size in sizes[:-1]:\n",
    "        x = layers.Dense(units=size, activation=activation)(x)\n",
    "    return layers.Dense(units=sizes[-1], activation=output_activation)(x)\n",
    "\n",
    "# Sample action from actor\n",
    "@tf.function\n",
    "def sample_action(observation, impossible_actions_param):\n",
    "    logits = actor(observation)\n",
    "    #reshape indices to fit spec of tensor_scatter_nd_update\n",
    "    impossible_action_indices = tf.reshape(impossible_actions_param, [impossible_actions_param.shape[0],-1])\n",
    "    #update impossible actions to have -inf, so even the log-probability\n",
    "    #of choosing them is 0\n",
    "    neg_inf_updates = np.zeros(impossible_action_indices.shape[0])\n",
    "    neg_inf_updates.fill(-np.inf)\n",
    "    possible_logits = tf.tensor_scatter_nd_update(logits[0], impossible_action_indices, neg_inf_updates)\n",
    "\n",
    "    possible_logits_reshaped = tf.reshape(possible_logits, [1,-1])\n",
    "\n",
    "    # action = tf.squeeze(tf.random.categorical(logits, 1), axis=1)\n",
    "    action = tf.squeeze(tf.random.categorical(possible_logits_reshaped, 1), axis=1)\n",
    "\n",
    "    return logits, action\n",
    "\n",
    "hidden_sizes = (128, 128)\n",
    "observation_dimensions = 242\n",
    "num_actions = env.action_space.n\n",
    "observation_input = keras.Input(shape=(observation_dimensions,), dtype=tf.float32)\n",
    "logits = mlp(observation_input, list(hidden_sizes) + [num_actions], tf.tanh, None)\n",
    "actor = keras.Model(inputs=observation_input, outputs=logits)\n",
    "\n",
    "actor.load_weights(\"ppo_actor_weights.h5\")\n",
    "\n",
    "num_episodes = 1\n",
    "\n",
    "for i in range(num_episodes):\n",
    "\tprint(\"episode\", i)\n",
    "\tobservation, info = env.reset()\n",
    "\tdeck_num = observation[\"deck_position\"]\n",
    "\tsuits = observation['suits']\n",
    "\tdecks = observation['decks'].flatten()\n",
    "\tdecks_suits = suit_val_vec(decks)\n",
    "\tdecks_card_vals = card_val_vec(decks)\n",
    "\tpiles = observation['piles'].flatten()\n",
    "\tpiles_suits = suit_val_vec(piles)\n",
    "\tpiles_card_vals = card_val_vec(piles)\n",
    "\tpiles_behind = (observation['piles_behind'] != 0).sum(0)\n",
    "\tobservation = np.concatenate((np.array([deck_num]),suits,decks_suits,decks_card_vals,piles_suits,piles_card_vals,piles_behind))\n",
    "\tobservation = observation.reshape(1, -1)\n",
    "\timpossible_actions = np.nonzero(info['action_mask'] == 0)[0]\n",
    "\n",
    "\tterminated = None\n",
    "\ttruncated = None\n",
    "\ttime.sleep(1)\n",
    "\n",
    "\twhile not terminated:\n",
    "\t\tlogits, action = sample_action(observation, impossible_actions)\n",
    "\n",
    "\t\tobservation = observation.reshape(1, -1)\n",
    "\t\tobservation_new, reward, terminated, info = env.step(action[0].numpy())\n",
    "\n",
    "\t\tdeck_num = observation_new[\"deck_position\"]\n",
    "\t\tsuits = observation_new['suits']\n",
    "\t\tdecks = observation_new['decks'].flatten()\n",
    "\t\tdecks_suits = suit_val_vec(decks)\n",
    "\t\tdecks_card_vals = card_val_vec(decks)\n",
    "\t\tpiles = observation_new['piles'].flatten()\n",
    "\t\tpiles_suits = suit_val_vec(piles)\n",
    "\t\tpiles_card_vals = card_val_vec(piles)\n",
    "\t\tpiles_behind = (observation_new['piles_behind'] != 0).sum(0)\n",
    "\t\tobservation = np.concatenate((np.array([deck_num]),suits,decks_suits,decks_card_vals,piles_suits,piles_card_vals,piles_behind))\n",
    "\t\tobservation = observation.reshape(1, -1)\n",
    "\t\timpossible_actions = np.nonzero(info['action_mask'] == 0)[0]\n",
    "\n",
    "env.close()"
   ]
  },
  {
   "cell_type": "code",
   "execution_count": null,
   "id": "946fa72e",
   "metadata": {},
   "outputs": [],
   "source": []
  }
 ],
 "metadata": {
  "kernelspec": {
   "display_name": "Python 3",
   "language": "python",
   "name": "python3"
  },
  "language_info": {
   "codemirror_mode": {
    "name": "ipython",
    "version": 3
   },
   "file_extension": ".py",
   "mimetype": "text/x-python",
   "name": "python",
   "nbconvert_exporter": "python",
   "pygments_lexer": "ipython3",
   "version": "3.8.8"
  }
 },
 "nbformat": 4,
 "nbformat_minor": 5
}
